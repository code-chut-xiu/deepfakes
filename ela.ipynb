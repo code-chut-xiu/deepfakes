{
 "cells": [
  {
   "cell_type": "code",
   "execution_count": 6,
   "metadata": {},
   "outputs": [],
   "source": [
    "from PIL import Image, ImageChops, ImageEnhance\n",
    "import numpy as np\n",
    "import matplotlib.pyplot as plt\n",
    "import torch.nn as nn"
   ]
  },
  {
   "cell_type": "code",
   "execution_count": 7,
   "metadata": {},
   "outputs": [],
   "source": [
    "SAMPLE_FOLDER = './private_samples/'"
   ]
  },
  {
   "cell_type": "code",
   "execution_count": 9,
   "metadata": {},
   "outputs": [],
   "source": [
    "def perform_ela(image_path, quality=90, scale=15):\n",
    "    original = Image.open(image_path).convert('RGB')\n",
    "    temp_path = \"temp.jpg\"\n",
    "    original.save(temp_path, 'JPEG', quality = quality)\n",
    "\n",
    "    recompressed = Image.open(temp_path).convert('RGB')\n",
    "    diff = ImageChops.difference(original, recompressed)\n",
    "\n",
    "    extrema = diff.getextrema()\n",
    "    max_diff = max([ ex[1] for ex in extrema]) or 1\n",
    "    scale_factor = 255.0 / max_diff if max_diff > 0 else scale\n",
    "    enhanced = ImageEnhance.Brightness(diff).enhance(scale_factor)\n",
    "\n",
    "    print(\"Maximum difference was %d\" % (max_diff))\n",
    "\n",
    "    return enhanced"
   ]
  },
  {
   "cell_type": "code",
   "execution_count": 10,
   "metadata": {},
   "outputs": [
    {
     "name": "stdout",
     "output_type": "stream",
     "text": [
      "Maximum difference was 15\n"
     ]
    }
   ],
   "source": [
    "ela_image = perform_ela(SAMPLE_FOLDER + \"selfie_1.jpg\")"
   ]
  },
  {
   "cell_type": "code",
   "execution_count": 11,
   "metadata": {},
   "outputs": [],
   "source": [
    "ela_image.show()"
   ]
  }
 ],
 "metadata": {
  "kernelspec": {
   "display_name": "Python 3",
   "language": "python",
   "name": "python3"
  },
  "language_info": {
   "codemirror_mode": {
    "name": "ipython",
    "version": 3
   },
   "file_extension": ".py",
   "mimetype": "text/x-python",
   "name": "python",
   "nbconvert_exporter": "python",
   "pygments_lexer": "ipython3",
   "version": "3.12.3"
  }
 },
 "nbformat": 4,
 "nbformat_minor": 2
}
