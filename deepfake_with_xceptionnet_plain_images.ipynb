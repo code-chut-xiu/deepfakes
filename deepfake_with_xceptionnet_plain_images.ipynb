{
 "cells": [
  {
   "cell_type": "code",
   "execution_count": 1,
   "metadata": {},
   "outputs": [],
   "source": [
    "import os\n",
    "import torch\n",
    "import torch.nn as nn\n",
    "import torch.optim as optim\n",
    "from torch.utils.data import DataLoader\n",
    "from torchvision import datasets, transforms, models\n",
    "import shutil\n",
    "import random\n",
    "import timm"
   ]
  },
  {
   "cell_type": "code",
   "execution_count": 2,
   "metadata": {},
   "outputs": [],
   "source": [
    "# Image transformations for training and testing\n",
    "train_transform = transforms.Compose(\n",
    "    [\n",
    "        transforms.Resize((224, 224)),\n",
    "        transforms.RandomHorizontalFlip(),\n",
    "        transforms.ToTensor(),\n",
    "        transforms.Normalize([0.5, 0.5, 0.5], [0.5, 0.5, 0.5])\n",
    "    ]\n",
    ")\n",
    "\n",
    "test_transform = transforms.Compose(\n",
    "    [\n",
    "        transforms.Resize((224, 224)),\n",
    "        transforms.ToTensor(),\n",
    "        transforms.Normalize([0.5, 0.5, 0.5], [0.5, 0.5, 0.5])\n",
    "    ]\n",
    ")"
   ]
  },
  {
   "cell_type": "code",
   "execution_count": 3,
   "metadata": {},
   "outputs": [],
   "source": [
    "# Load the dataset\n",
    "IMAGE_PATH = \"/Users/Hung.Le/Downloads/df-training-images/\"\n",
    "AUTHENTIC = IMAGE_PATH + \"authentic\"\n",
    "TAMPERED = IMAGE_PATH + \"tampered\"\n",
    "TRAIN_REAL_PATH = 'dataset/train/real'\n",
    "TRAIN_FAKE_PATH = 'dataset/train/fake'\n",
    "TEST_REAL_PATH = 'dataset/test/real'\n",
    "TEST_FAKE_PATH = 'dataset/test/fake'\n",
    "PERCENT = 0.9\n",
    "\n",
    "authentic_list = os.listdir(AUTHENTIC)\n",
    "tampered_list = os.listdir(TAMPERED)\n",
    "# print(len(authentic_list))\n",
    "# print(len(tampered_list))\n",
    "train_real_size = int(len(authentic_list) * PERCENT)\n",
    "train_fake_size = int(len(tampered_list) * PERCENT)\n",
    "# print(train_real_size)\n",
    "# print(train_fake_size)\n",
    "\n",
    "if os.path.exists('dataset'):\n",
    "    shutil.rmtree('dataset')\n",
    "\n",
    "sub_dirs = [\n",
    "    TRAIN_REAL_PATH,\n",
    "    TRAIN_FAKE_PATH,\n",
    "    TEST_REAL_PATH,\n",
    "    TEST_FAKE_PATH,\n",
    "]\n",
    "\n",
    "for sub_dir in sub_dirs:\n",
    "    os.makedirs(sub_dir)\n",
    "\n",
    "for f in random.sample(os.listdir(AUTHENTIC), k=train_real_size):\n",
    "    shutil.copy(AUTHENTIC + '/' + f, TRAIN_REAL_PATH )\n",
    "for f in random.sample(os.listdir(TAMPERED), k=train_fake_size):\n",
    "    shutil.copy(TAMPERED + '/' + f, TRAIN_FAKE_PATH)\n",
    "for f in random.sample(os.listdir(AUTHENTIC), k=len(authentic_list) - train_real_size):\n",
    "    shutil.copy(AUTHENTIC + '/' + f, TEST_REAL_PATH )\n",
    "for f in random.sample(os.listdir(TAMPERED), k=len(tampered_list) - train_fake_size):\n",
    "    shutil.copy(TAMPERED + '/' + f, TEST_FAKE_PATH)\n",
    "# print(len(os.listdir(TRAIN_REAL_PATH)))\n",
    "# print(len(os.listdir(TRAIN_FAKE_PATH)))\n",
    "# print(len(os.listdir(TEST_REAL_PATH)))\n",
    "# print(len(os.listdir(TEST_FAKE_PATH)))"
   ]
  },
  {
   "cell_type": "code",
   "execution_count": 26,
   "metadata": {},
   "outputs": [
    {
     "name": "stdout",
     "output_type": "stream",
     "text": [
      "Class to Index Mapping: {'fake': 0, 'real': 1}\n"
     ]
    }
   ],
   "source": [
    "# Load the dataset\n",
    "train_dir = 'dataset/train'\n",
    "test_dir = 'dataset/test'\n",
    "\n",
    "# Create datasets\n",
    "train_dataset = datasets.ImageFolder(root=train_dir, transform=train_transform)\n",
    "test_dataset = datasets.ImageFolder(root=test_dir, transform=test_transform)\n",
    "\n",
    "# Create data loaders\n",
    "train_loader = DataLoader(train_dataset, batch_size=16, shuffle=True)\n",
    "test_loader = DataLoader(test_dataset, batch_size=16, shuffle=False)\n",
    "\n",
    "# Check class indices\n",
    "print(\"Class to Index Mapping:\", train_dataset.class_to_idx)"
   ]
  },
  {
   "cell_type": "code",
   "execution_count": 27,
   "metadata": {},
   "outputs": [],
   "source": [
    "# Load the Xception model from timm\n",
    "model = timm.create_model('xception', pretrained=True)\n",
    "\n",
    "# Modify the final layer for binary classification\n",
    "model.fc = nn.Linear(model.fc.in_features, 1)\n",
    "\n",
    "# Freeze all layers except the final layer\n",
    "for param in model.parameters():\n",
    "    param.requires_grad = False  # Freeze all layers\n",
    "\n",
    "for param in model.fc.parameters():\n",
    "    param.requires_grad = True  # Unfreeze only the final layer\n"
   ]
  },
  {
   "cell_type": "code",
   "execution_count": 28,
   "metadata": {},
   "outputs": [],
   "source": [
    "# Define the Loss function & optimizer\n",
    "\n",
    "# Device Configuration\n",
    "device = torch.device('cuda' if torch.cuda.is_available() else 'cpu')\n",
    "model = model.to(device)\n",
    "\n",
    "# Define loss function and optimizer\n",
    "criterion = nn.BCEWithLogitsLoss()\n",
    "optimizer = optim.Adam(model.parameters(), lr= 0.0001)\n"
   ]
  },
  {
   "cell_type": "code",
   "execution_count": 29,
   "metadata": {},
   "outputs": [
    {
     "name": "stdout",
     "output_type": "stream",
     "text": [
      "Epoch [1/10], Loss: 0.5439, Accuracy: 77.81%\n",
      "Epoch [2/10], Loss: 0.5158, Accuracy: 78.28%\n",
      "Epoch [3/10], Loss: 0.5023, Accuracy: 78.29%\n",
      "Epoch [4/10], Loss: 0.4920, Accuracy: 78.56%\n",
      "Epoch [5/10], Loss: 0.4813, Accuracy: 78.80%\n",
      "Epoch [6/10], Loss: 0.4749, Accuracy: 78.92%\n",
      "Epoch [7/10], Loss: 0.4671, Accuracy: 79.27%\n",
      "Epoch [8/10], Loss: 0.4660, Accuracy: 79.38%\n",
      "Epoch [9/10], Loss: 0.4601, Accuracy: 79.44%\n",
      "Epoch [10/10], Loss: 0.4590, Accuracy: 79.47%\n",
      "Training is complete\n"
     ]
    }
   ],
   "source": [
    "# Train the dragon\n",
    "\n",
    "def train_model(model, criterion, optimizer, num_epochs= 10):\n",
    "    for epoch in range(num_epochs):\n",
    "        model.train()\n",
    "        running_loss = 0.0\n",
    "        correct = 0\n",
    "        total = 0\n",
    "\n",
    "        for images, labels in train_loader:\n",
    "            images = images.to(device)\n",
    "            labels = labels.to(device).float().unsqueeze(1)\n",
    "\n",
    "            # Forward pass\n",
    "            outputs = model(images)\n",
    "            loss = criterion(outputs, labels)\n",
    "\n",
    "            # Back-propagation and optimization\n",
    "            optimizer.zero_grad()\n",
    "            loss.backward()\n",
    "            optimizer.step()\n",
    "\n",
    "            # Calculate accuracy\n",
    "            preds = torch.sigmoid(outputs) > 0.5\n",
    "            correct += (preds == labels).sum().item()\n",
    "            total += labels.size(0)\n",
    "            running_loss += loss.item()\n",
    "\n",
    "        epoch_loss = running_loss / len(train_loader)\n",
    "        epoch_acc = 100 * correct /total\n",
    "        print(f\"Epoch [{epoch+1}/{num_epochs}], Loss: {epoch_loss:.4f}, Accuracy: {epoch_acc:.2f}%\")\n",
    "\n",
    "    print(\"Training is complete\")\n",
    "    torch.save(model.state_dict(), 'deepfake_detector_w_xception.pth')\n",
    "\n",
    "train_model(model, criterion, optimizer, num_epochs=10)"
   ]
  }
 ],
 "metadata": {
  "kernelspec": {
   "display_name": "venv",
   "language": "python",
   "name": "python3"
  },
  "language_info": {
   "codemirror_mode": {
    "name": "ipython",
    "version": 3
   },
   "file_extension": ".py",
   "mimetype": "text/x-python",
   "name": "python",
   "nbconvert_exporter": "python",
   "pygments_lexer": "ipython3",
   "version": "3.12.2"
  }
 },
 "nbformat": 4,
 "nbformat_minor": 2
}
